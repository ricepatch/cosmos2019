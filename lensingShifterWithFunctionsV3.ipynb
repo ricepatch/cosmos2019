{
 "cells": [
  {
   "cell_type": "markdown",
   "metadata": {},
   "source": [
    "# Definitions"
   ]
  },
  {
   "cell_type": "code",
   "execution_count": 1,
   "metadata": {},
   "outputs": [],
   "source": [
    "# import\n",
    "from astropy.io import ascii\n",
    "from matplotlib import pyplot as plt\n",
    "import numpy as np"
   ]
  },
  {
   "cell_type": "code",
   "execution_count": 2,
   "metadata": {},
   "outputs": [],
   "source": [
    "# read data and plot data functions\n",
    "def readData(dataFile):\n",
    "    infile = dataFile\n",
    "    hdat1 = ascii.read(infile)\n",
    "    return hdat1\n",
    "\n",
    "def plotData(x, y1, y2, y3, y4, yerr1, yerr2, yerr3, yerr4):\n",
    "    plt.errorbar(x, y1, yerr=yerr1, fmt='C0o')\n",
    "    plt.errorbar(x, y2, yerr=yerr2, fmt='C1o')\n",
    "    plt.errorbar(x, y3, yerr=yerr3, fmt='C2o')\n",
    "    plt.errorbar(x, y4, yerr=yerr4, fmt='C3o')"
   ]
  },
  {
   "cell_type": "code",
   "execution_count": 3,
   "metadata": {},
   "outputs": [],
   "source": [
    "# normalize other data function\n",
    "def normalize(y1, y2, y3, y4, yerr1, yerr2, yerr3, yerr4):\n",
    "    \n",
    "    n1 = y1/np.mean(y1)\n",
    "    \n",
    "    n2 = y2/np.mean(y2)\n",
    "    \n",
    "    n3 = y3/np.mean(y3)\n",
    "    \n",
    "    n4 = y4/np.mean(y4)\n",
    "    \n",
    "    nerr1 = yerr1/np.mean(y1)\n",
    "    \n",
    "    nerr2 = yerr2/np.mean(y2)\n",
    "    \n",
    "    nerr3 = yerr3/np.mean(y3)\n",
    "    \n",
    "    nerr4 = yerr4/np.mean(y4)\n",
    "    \n",
    "    return n1,n2,n3,n4,nerr1,nerr2,nerr3,nerr4"
   ]
  },
  {
   "cell_type": "code",
   "execution_count": 4,
   "metadata": {},
   "outputs": [],
   "source": [
    "def interpolateX(data, x):\n",
    "    dx= ((data[x][-1])-(data[x][0]))/(data[x].size)\n",
    "    \n",
    "    newX = np.arange(data[x].size)\n",
    "    newX = newX*dx\n",
    "    newX = newX+data[x][0]\n",
    "    return newX, dx"
   ]
  },
  {
   "cell_type": "code",
   "execution_count": 5,
   "metadata": {},
   "outputs": [],
   "source": [
    "def interpolateY(dataX, newX, n1, n2, n3, n4, nerr1, nerr2, nerr3, nerr4, smoothSize):\n",
    "    # creates newa array size newX with zeroes\n",
    "    new1 = newX*0\n",
    "    new2 = newX*0\n",
    "    new3 = newX*0\n",
    "    new4 = newX*0\n",
    "\n",
    "    newerr1 = newX*0\n",
    "    newerr2 = newX*0\n",
    "    newerr3 = newX*0\n",
    "    newerr4 = newX*0\n",
    "    \n",
    "    # Loop to create an interpolated set of y values\n",
    "    for i in range(newX.size):\n",
    "        # create mask of several surrounding values\n",
    "        mask = (dataX>newX[i]-smoothSize) & (dataX<newX[i]+smoothSize)\n",
    "        # calculate temporary value and error ranges\n",
    "        tempn1 = n1[mask]\n",
    "        temperr1 = nerra[mask]\n",
    "\n",
    "        tempn2 = n2[mask]\n",
    "        temperr2 = nerrb[mask]\n",
    "\n",
    "        tempn3 = n3[mask]\n",
    "        temperr3 = nerrc[mask]\n",
    "\n",
    "        tempn4 = n4[mask]\n",
    "        temperr4 = nerrd[mask]\n",
    "        \n",
    "        # clear nans\n",
    "        tempn1 = tempn1[~np.isnan(tempn1)]\n",
    "        tempn2 = tempn2[~np.isnan(tempn2)]\n",
    "        tempn3 = tempn3[~np.isnan(tempn3)]\n",
    "        tempn4 = tempn4[~np.isnan(tempn4)]\n",
    "        temperr1 = temperr1[~np.isnan(temperr1)]\n",
    "        temperr2 = temperr2[~np.isnan(temperr2)]\n",
    "        temperr3 = temperr3[~np.isnan(temperr3)]\n",
    "        temperr4 = temperr4[~np.isnan(temperr4)]\n",
    "\n",
    "        \n",
    "        # take means IF SET IS NOT EMPTY and save as a new data point\n",
    "        if tempn1.size == 0:\n",
    "            pass\n",
    "        else:\n",
    "            new1[i] = tempn1.mean()\n",
    "            newerr1[i] = ((temperr1**2).mean())**0.5\n",
    "\n",
    "            new2[i] = tempn2.mean()\n",
    "            newerr2[i] = ((temperr2**2).mean())**0.5\n",
    "\n",
    "            new3[i] = tempn3.mean()\n",
    "            newerr3[i] = ((temperr3**2).mean())**0.5\n",
    "\n",
    "            new4[i] = tempn4.mean()\n",
    "            newerr4[i] = ((temperr4**2).mean())**0.5\n",
    "            \n",
    "    # clear zeros\n",
    "    remainingIndices = np.nonzero(new1)\n",
    "    new1 = new1[np.nonzero(new1)]\n",
    "    new2 = new2[np.nonzero(new2)]\n",
    "    new3 = new3[np.nonzero(new3)]\n",
    "    new4 = new4[np.nonzero(new4)]\n",
    "    newerr1 = newerr1[np.nonzero(newerr1)]\n",
    "    newerr2 = newerr2[np.nonzero(newerr2)]\n",
    "    newerr3 = newerr3[np.nonzero(newerr3)]\n",
    "    newerr4 = newerr4[np.nonzero(newerr4)]\n",
    "    remainingNewX = newX[remainingIndices]\n",
    "    \n",
    "    return new1, new2, new3, new4, newerr1, newerr2, newerr3, newerr4, remainingNewX"
   ]
  },
  {
   "cell_type": "code",
   "execution_count": 6,
   "metadata": {},
   "outputs": [],
   "source": [
    "def shiftArray(n0, n1, n2, n3, err0, err1, err2, err3, chiRange):\n",
    "    # loop the shift for some number of terms on each curve\n",
    "    chi1 = np.zeros(chiRange)\n",
    "    chi2 = np.zeros(chiRange)\n",
    "    chi3 = np.zeros(chiRange)\n",
    "    for i in range(chiRange):\n",
    "        # \"shift\" set 1 left by i newdays and compare it to base set\n",
    "        # create new temporary comparison arrays for the sets to be compared and normalize\n",
    "        temp0 = n0[0:-(i+1)]\n",
    "        temp0 = temp0/np.mean(temp0)\n",
    "        temp1 = n1[(i+1):]\n",
    "        temp1 = temp1/np.mean(temp1)\n",
    "        temp2 = n2[(i+1):]\n",
    "        temp2 = temp2/np.mean(temp2)\n",
    "        temp3 = n3[(i+1):]\n",
    "        temp3 = temp3/np.mean(temp3)\n",
    "        # do the same for errors\n",
    "        prechierr0 = err0[0:-(i+1)]\n",
    "        prechierr0 = prechierr0/np.mean(prechierr0)\n",
    "        prechierr1 = err1[(i+1):]\n",
    "        prechierr1 = prechierr1/np.mean(prechierr1)\n",
    "        prechierr2 = err2[(i+1):]\n",
    "        prechierr2 = prechierr2/np.mean(prechierr2)\n",
    "        prechierr3 = err3[(i+1):]\n",
    "        prechierr3 = prechierr3/np.mean(prechierr3)\n",
    "        # subtract these arrays and take the squares of the differences, plus error\n",
    "        tempsquares1v0 = (temp1-temp0)**2/(prechierr1**2+prechierr0**2)\n",
    "        tempsquares2v0 = (temp2-temp0)**2/(prechierr2**2+prechierr0**2)\n",
    "        tempsquares3v0 = (temp3-temp0)**2/(prechierr3**2+prechierr0**2)\n",
    "        # sum these squares\n",
    "        tempchisquared1v0 = tempsquares1v0.sum()\n",
    "        tempchisquared2v0 = tempsquares2v0.sum()\n",
    "        tempchisquared3v0 = tempsquares3v0.sum()\n",
    "        # add the sums to new arrays for each\n",
    "        chi1[i] = tempchisquared1v0\n",
    "        chi2[i] = tempchisquared2v0\n",
    "        chi3[i] = tempchisquared3v0\n",
    "        \n",
    "    return chi1, chi2, chi3"
   ]
  },
  {
   "cell_type": "code",
   "execution_count": 7,
   "metadata": {},
   "outputs": [],
   "source": [
    "def plotShiftedData(x, dx, n0, n1, n2, n3, chi1, chi2, chi3, err0, err1, err2, err3):\n",
    "    # shift the graph some number of times and plot\n",
    "    plt.errorbar(x, n0, yerr=newerrb, fmt='C1o')\n",
    "    plt.errorbar(x-dx*np.argmin(chi1), n1, yerr=newerra, fmt='C0o')\n",
    "    plt.errorbar(x-dx*np.argmin(chi2), n2, yerr=newerrc, fmt='C2o')\n",
    "    plt.errorbar(x-dx*np.argmin(chi3), n3, yerr=newerrd, fmt='C3o')"
   ]
  },
  {
   "cell_type": "markdown",
   "metadata": {},
   "source": [
    "# Main run sequence"
   ]
  },
  {
   "cell_type": "code",
   "execution_count": 8,
   "metadata": {},
   "outputs": [
    {
     "data": {
      "image/png": "[encoded data removed]",
      "text/plain": [
       "<Figure size 432x288 with 1 Axes>"
      ]
     },
     "metadata": {
      "needs_background": "light"
     },
     "output_type": "display_data"
    }
   ],
   "source": [
    "# main 1a (CONCATENATE 3)\n",
    "data1 = readData(\"lens1_lightcurve.dat\")\n",
    "data2 = readData(\"lens2_lightcurve.dat\")\n",
    "data3 = readData(\"lens3_lightcurve.dat\")\n",
    "bigdata = np.concatenate((data1, data2, data3))\n",
    "\n",
    "plotData(bigdata['day'], bigdata['ffa'], bigdata['ffb'], bigdata['ffc'], bigdata['ffd'], bigdata['fferra'], bigdata['fferrb'], bigdata['fferrc'], bigdata['fferrd'])\n",
    "\n",
    "# plotData(data1['day'], data1['ffa'], data1['ffb'], data1['ffc'], data1['ffd'], data1['fferra'], data1['fferrb'], data1['fferrc'], data1['fferrd'])\n",
    "# plotData(data2['day'], data2['ffa'], data2['ffb'], data2['ffc'], data2['ffd'], data2['fferra'], data2['fferrb'], data2['fferrc'], data2['fferrd'])\n",
    "# plotData(data3['day'], data3['ffa'], data3['ffb'], data3['ffc'], data3['ffd'], data3['fferra'], data3['fferrb'], data3['fferrc'], data3['fferrd'])"
   ]
  },
  {
   "cell_type": "code",
   "execution_count": 9,
   "metadata": {},
   "outputs": [
    {
     "data": {
      "text/plain": [
       "'\\n# main 1b (CONCATENATE)\\ndata1 = readData(\"lens1lightcurve.dat\")\\ndata2 = readData(\"lens2_lightcurve.dat\")\\ndata = np.concatenate((data1, data2))\\nplotData(data[\\'day\\'], data[\\'ffa\\'], data[\\'ffb\\'], data[\\'ffc\\'], data[\\'ffd\\'], data[\\'fferra\\'], data[\\'fferrb\\'], data[\\'fferrc\\'], data[\\'fferrd\\'])\\n'"
      ]
     },
     "execution_count": 9,
     "metadata": {},
     "output_type": "execute_result"
    }
   ],
   "source": [
    "\"\"\"\n",
    "# main 1b (CONCATENATE)\n",
    "data1 = readData(\"lens1lightcurve.dat\")\n",
    "data2 = readData(\"lens2_lightcurve.dat\")\n",
    "data = np.concatenate((data1, data2))\n",
    "plotData(data['day'], data['ffa'], data['ffb'], data['ffc'], data['ffd'], data['fferra'], data['fferrb'], data['fferrc'], data['fferrd'])\n",
    "\"\"\""
   ]
  },
  {
   "cell_type": "code",
   "execution_count": 15,
   "metadata": {},
   "outputs": [
    {
     "data": {
      "image/png": "[encoded data removed]",
      "text/plain": [
       "<Figure size 1152x576 with 1 Axes>"
      ]
     },
     "metadata": {
      "needs_background": "light"
     },
     "output_type": "display_data"
    }
   ],
   "source": [
    "# main 2a (Normalize concatenated set and collect normalization average value)\n",
    "naBig, nbBig, ncBig, ndBig, nerraBig, nerrbBig, nerrcBig, nerrdBig = normalize(bigdata['ffa'],bigdata['ffb'],bigdata['ffc'],bigdata['ffd'],bigdata['fferra'],bigdata['fferrb'],bigdata['fferrc'],bigdata['fferrd'])\n",
    "plt.figure(figsize=(16,8))\n",
    "plotData(bigdata['day'], naBig, nbBig, ncBig, ndBig, nerraBig, nerrbBig, nerrcBig, nerrdBig)"
   ]
  },
  {
   "cell_type": "code",
   "execution_count": null,
   "metadata": {},
   "outputs": [],
   "source": [
    "# main 3a: test different interpolations (OPTIONAL)\n",
    "newX, dx= interpolateX(data, 'day')\n",
    "smoothRangeLow = input('enter a lower smoothing bound: ')\n",
    "smoothRangeHigh = input('enter an upper smoothing bound: ')\n",
    "smoothRange = np.arange(smoothRangeLow, smoothRangeHigh+1)\n",
    "chiRange = input(\"Input a range of shifts: \")\n",
    "plt.figure(figsize=(8, 7*smoothRange.size))\n",
    "# \"\"\"\n",
    "ba = np.zeros(smoothRange.size)\n",
    "bc = np.zeros(smoothRange.size)\n",
    "bd = np.zeros(smoothRange.size)\n",
    "# \"\"\"\n",
    "print('Calculating...')\n",
    "for i in range(smoothRange.size):\n",
    "    newa, newb, newc, newd, newerra, newerrb, newerrc, newerrd, remainingNewX = interpolateY(data['day'], newX, na, nb, nc, nd, nerra, nerrb, nerrc, nerrd, smoothRange[i])\n",
    "    chia, chib, chic = shiftArray(newb, newa, newc, newd, newerrb, newerra, newerrc, newerrd, chiRange)\n",
    "    plt.subplot(smoothRange.size, 1, i+1)\n",
    "    plotShiftedData(remainingNewX, dx, newb, newa, newc, newd, chia, chib, chic, newerrb, newerra, newerrc, newerrd)\n",
    "    smoothSizeTitle = 'Flux vs. Day With a Smooth Size Of ' + str(smoothRange[i]) + ', ' + str(round((np.argmin(chia)*dx), 4)) + ' ' + str(round((np.argmin(chib)*dx), 4)) + ' ' + str(round((np.argmin(chic)*dx), 4)) + ' Days Shifted'\n",
    "    plt.title(smoothSizeTitle)\n",
    "    plt.xlabel('day')\n",
    "    plt.ylabel('normalized flux')\n",
    "    ba[i] = np.argmin(chia)*dx\n",
    "    bc[i] = np.argmin(chib)*dx\n",
    "    bd[i] = np.argmin(chic)*dx\n",
    "# print(newa,newb,newc,newd)\n",
    "    "
   ]
  },
  {
   "cell_type": "code",
   "execution_count": null,
   "metadata": {},
   "outputs": [],
   "source": [
    "# main 3b: interpolate data\n",
    "newX, dx= interpolateX(data, 'day')\n",
    "smoothSize = input('enter a smoothing size: ')\n",
    "newa, newb, newc, newd, newerra, newerrb, newerrc, newerrd, remainingNewX = interpolateY(data['day'], newX, na, nb, nc, nd, nerra, nerrb, nerrc, nerrd, smoothSize)\n",
    "# print(newa, newb, newc, newd, newerra, newerrb, newerrc, newerrd)\n",
    "plotData(newX, newa, newb, newc, newd, newerra, newerrb, newerrc, newerrd)"
   ]
  },
  {
   "cell_type": "code",
   "execution_count": null,
   "metadata": {},
   "outputs": [],
   "source": [
    "# main 4a\n",
    "chiRange = input(\"Input a range of shifts: \")\n",
    "chia, chib, chic = shiftArray(newb, newa, newc, newd, newerrb, newerra, newerrc, newerrd, chiRange)"
   ]
  },
  {
   "cell_type": "code",
   "execution_count": null,
   "metadata": {},
   "outputs": [],
   "source": [
    "# main 4b (SEPARATE CASES)\n",
    "chiRange = input(\"Input a range of shifts: \")\n",
    "chia3, chib3, chic3 = shiftArray(newb, newa, newc, newd, newerrb, newerra, newerrc, newerrd, chiRange)"
   ]
  },
  {
   "cell_type": "code",
   "execution_count": null,
   "metadata": {},
   "outputs": [],
   "source": [
    "# main 5: plot a single shifted result\n",
    "newb, newa, newc, newd, dummy, dummy, dummy, dummy = normalize(newb, newa, newc, newd, newerrb, newerra, newerrc, newerrd)\n",
    "plotShiftedData(remainingNewX, dx, newb, newa, newc, newd, chia, chib, chic, newerrb, newerra, newerrc, newerrd)"
   ]
  },
  {
   "cell_type": "code",
   "execution_count": null,
   "metadata": {},
   "outputs": [],
   "source": [
    "# main 6: gather averages of shifts and calculate error of mean\n",
    "baMean = ba.mean()\n",
    "baMeanErr = ba.std()/(ba.size-1)**0.5\n",
    "print('ba',baMean, baMeanErr)\n",
    "bcMean = bc.mean()\n",
    "bcMeanErr = bc.std()/(bc.size-1)**0.5\n",
    "print('bc', bcMean, bcMeanErr)\n",
    "bdMean = bd.mean()\n",
    "bdMeanErr = bd.std()/(bd.size-1)**0.5\n",
    "print('bd', bdMean, bdMeanErr)"
   ]
  },
  {
   "cell_type": "code",
   "execution_count": null,
   "metadata": {},
   "outputs": [],
   "source": []
  },
  {
   "cell_type": "markdown",
   "metadata": {},
   "source": [
    "# Testing Branch"
   ]
  },
  {
   "cell_type": "code",
   "execution_count": null,
   "metadata": {},
   "outputs": [],
   "source": [
    "# 27.68\n",
    "# 33.10\n",
    "# 72.83"
   ]
  },
  {
   "cell_type": "code",
   "execution_count": null,
   "metadata": {},
   "outputs": [],
   "source": [
    "print(dx)"
   ]
  },
  {
   "cell_type": "code",
   "execution_count": null,
   "metadata": {},
   "outputs": [],
   "source": [
    "data"
   ]
  },
  {
   "cell_type": "code",
   "execution_count": null,
   "metadata": {},
   "outputs": [],
   "source": [
    "data"
   ]
  },
  {
   "cell_type": "code",
   "execution_count": null,
   "metadata": {},
   "outputs": [],
   "source": [
    "na = na[~np.isnan(na)]\n",
    "newX = newX[~np.isnan(newX)]"
   ]
  },
  {
   "cell_type": "code",
   "execution_count": null,
   "metadata": {},
   "outputs": [],
   "source": [
    "print(na)\n",
    "print(na.size)\n",
    "print(newX)\n",
    "print(newX.size)"
   ]
  },
  {
   "cell_type": "code",
   "execution_count": null,
   "metadata": {},
   "outputs": [],
   "source": [
    "# MASK TEST\n",
    "print(newa)\n",
    "newa, newb, newc, newd, newerra, newerrb, newerrc, newerrd = interpolateY(data['day'], newX, na, nb, nc, nd, nerra, nerrb, nerrc, nerrd, smoothRange[i])"
   ]
  },
  {
   "cell_type": "code",
   "execution_count": null,
   "metadata": {},
   "outputs": [],
   "source": [
    "print(na)"
   ]
  },
  {
   "cell_type": "code",
   "execution_count": null,
   "metadata": {},
   "outputs": [],
   "source": [
    "newX, dx= interpolateX(data, 'day')"
   ]
  },
  {
   "cell_type": "code",
   "execution_count": null,
   "metadata": {},
   "outputs": [],
   "source": [
    "print(newX)\n",
    "print(dx)"
   ]
  },
  {
   "cell_type": "code",
   "execution_count": null,
   "metadata": {},
   "outputs": [],
   "source": [
    "print(na)"
   ]
  },
  {
   "cell_type": "code",
   "execution_count": null,
   "metadata": {},
   "outputs": [],
   "source": [
    "print(newerra.size)"
   ]
  },
  {
   "cell_type": "code",
   "execution_count": null,
   "metadata": {},
   "outputs": [],
   "source": [
    "print(data['day'].size)"
   ]
  },
  {
   "cell_type": "code",
   "execution_count": null,
   "metadata": {},
   "outputs": [],
   "source": [
    "print(newa.size)"
   ]
  },
  {
   "cell_type": "code",
   "execution_count": null,
   "metadata": {},
   "outputs": [],
   "source": [
    "print(remainingIndices)"
   ]
  },
  {
   "cell_type": "code",
   "execution_count": null,
   "metadata": {},
   "outputs": [],
   "source": [
    "print(newX.size)"
   ]
  },
  {
   "cell_type": "code",
   "execution_count": null,
   "metadata": {},
   "outputs": [],
   "source": [
    "print(newa.size)"
   ]
  },
  {
   "cell_type": "code",
   "execution_count": null,
   "metadata": {},
   "outputs": [],
   "source": [
    "print(chia)"
   ]
  },
  {
   "cell_type": "code",
   "execution_count": null,
   "metadata": {},
   "outputs": [],
   "source": [
    "print(chia.argmin())\n",
    "print(chic.argmin())"
   ]
  },
  {
   "cell_type": "code",
   "execution_count": null,
   "metadata": {},
   "outputs": [],
   "source": [
    "print(remainingNewX.size)"
   ]
  },
  {
   "cell_type": "code",
   "execution_count": null,
   "metadata": {},
   "outputs": [],
   "source": [
    "print(chia)"
   ]
  },
  {
   "cell_type": "code",
   "execution_count": null,
   "metadata": {},
   "outputs": [],
   "source": [
    "print(chia1)\n",
    "print(chib1)\n",
    "print(chic1)"
   ]
  },
  {
   "cell_type": "code",
   "execution_count": null,
   "metadata": {},
   "outputs": [],
   "source": [
    "print(chia2)\n",
    "print(chib2)\n",
    "print(chic2)"
   ]
  },
  {
   "cell_type": "code",
   "execution_count": null,
   "metadata": {},
   "outputs": [],
   "source": [
    "print(chia3)\n",
    "print(chib3)\n",
    "print(chic3)"
   ]
  },
  {
   "cell_type": "code",
   "execution_count": null,
   "metadata": {},
   "outputs": [],
   "source": [
    "chiaTotal = chia1 + chia2 + chia3\n",
    "chibTotal = chib1 + chib2 + chib3\n",
    "chicTotal = chic1 + chic2 + chic3"
   ]
  },
  {
   "cell_type": "code",
   "execution_count": null,
   "metadata": {},
   "outputs": [],
   "source": [
    "print(chiaTotal)\n",
    "print(chibTotal)\n",
    "print(chicTotal)"
   ]
  },
  {
   "cell_type": "code",
   "execution_count": null,
   "metadata": {},
   "outputs": [],
   "source": [
    "print(np.argmin(chiaTotal)*3.1605)\n",
    "print(np.argmin(chibTotal)*3.1605)\n",
    "print(np.argmin(chicTotal)*3.1605)"
   ]
  },
  {
   "cell_type": "code",
   "execution_count": null,
   "metadata": {},
   "outputs": [],
   "source": [
    "print(np.argmin(chiaTotal)*3.1475)\n",
    "print(np.argmin(chibTotal)*3.1475)\n",
    "print(np.argmin(chicTotal)*3.1475)"
   ]
  },
  {
   "cell_type": "code",
   "execution_count": null,
   "metadata": {},
   "outputs": [],
   "source": [
    "print(dx)"
   ]
  },
  {
   "cell_type": "code",
   "execution_count": null,
   "metadata": {},
   "outputs": [],
   "source": [
    "print(np.argmin(chiaTotal))\n",
    "print(np.argmin(chibTotal))\n",
    "print(np.argmin(chicTotal))"
   ]
  },
  {
   "cell_type": "code",
   "execution_count": null,
   "metadata": {},
   "outputs": [],
   "source": [
    "def plotData(x, y1, y2, y3, y4, yerr1, yerr2, yerr3, yerr4):\n",
    "    plt.errorbar(x-31.604, y1, yerr=yerr1, fmt='C0o')\n",
    "    plt.errorbar(x, y2, yerr=yerr2, fmt='C1o')\n",
    "    plt.errorbar(x-37.926, y3, yerr=yerr3, fmt='C2o')\n",
    "    plt.errorbar(x-85.333, y4, yerr=yerr4, fmt='C3o')"
   ]
  },
  {
   "cell_type": "code",
   "execution_count": null,
   "metadata": {},
   "outputs": [],
   "source": [
    "data = readData(\"lens3_lightcurve.dat\")\n",
    "data1 = readData(\"lens1_lightcurve.dat\")\n",
    "data2 = readData(\"lens2_lightcurve.dat\")\n",
    "plt.figure(figsize=(16,8))\n",
    "# na, nb, nc, nd, nerra, nerrb, nerrc, nerrd = normalize(data1['ffa'],data1['ffb'],data1['ffc'],data1['ffd'],data1['fferra'],data1['fferrb'],data1['fferrc'],data1['fferrd'])\n",
    "plotData(data['day'], data['ffa'], data['ffb'], data['ffc'], data['ffd'], data['fferra'], data['fferrb'], data['fferrc'], data['fferrd'])\n",
    "plotData(data1['day'], data1['ffa'], data1['ffb'], data1['ffc'], data1['ffd'], data1['fferra'], data1['fferrb'], data1['fferrc'], data1['fferrd'])\n",
    "plotData(data2['day'], data2['ffa'], data2['ffb'], data2['ffc'], data2['ffd'], data2['fferra'], data2['fferrb'], data2['fferrc'], data2['fferrd'])"
   ]
  },
  {
   "cell_type": "code",
   "execution_count": null,
   "metadata": {},
   "outputs": [],
   "source": [
    "newX, dx= interpolateX(data, 'day')\n",
    "smoothSize = input('enter a smoothing size: ')\n",
    "newa, newb, newc, newd, newerra, newerrb, newerrc, newerrd, remainingNewX = interpolateY(data['day'], newX, na, nb, nc, nd, nerra, nerrb, nerrc, nerrd, smoothSize)\n",
    "# print(newa, newb, newc, newd, newerra, newerrb, newerrc, newerrd)\n",
    "plotData(newX, newa, newb, newc, newd, newerra, newerrb, newerrc, newerrd)"
   ]
  },
  {
   "cell_type": "code",
   "execution_count": null,
   "metadata": {},
   "outputs": [],
   "source": [
    "plotData(newX, newa, newb, newc, newd, newerra, newerrb, newerrc, newerrd)"
   ]
  },
  {
   "cell_type": "code",
   "execution_count": null,
   "metadata": {},
   "outputs": [],
   "source": []
  }
 ],
 "metadata": {
  "kernelspec": {
   "display_name": "Python 2",
   "language": "python",
   "name": "python2"
  },
  "language_info": {
   "codemirror_mode": {
    "name": "ipython",
    "version": 2
   },
   "file_extension": ".py",
   "mimetype": "text/x-python",
   "name": "python",
   "nbconvert_exporter": "python",
   "pygments_lexer": "ipython2",
   "version": "2.7.16"
  }
 },
 "nbformat": 4,
 "nbformat_minor": 2
}
